{
 "cells": [
  {
   "cell_type": "markdown",
   "id": "876fdf4a",
   "metadata": {},
   "source": [
    "#### comments start with # symbol"
   ]
  },
  {
   "cell_type": "markdown",
   "id": "f1280f5f",
   "metadata": {},
   "source": [
    "#### print() is a built in funcion that displays input values as text in he output"
   ]
  },
  {
   "cell_type": "code",
   "execution_count": 1,
   "id": "183bd820",
   "metadata": {},
   "outputs": [
    {
     "name": "stdout",
     "output_type": "stream",
     "text": [
      "hello\n"
     ]
    }
   ],
   "source": [
    "print(\"hello\")"
   ]
  },
  {
   "cell_type": "code",
   "execution_count": 2,
   "id": "e39aaf59",
   "metadata": {},
   "outputs": [
    {
     "name": "stdout",
     "output_type": "stream",
     "text": [
      "Today is a lovely day\n",
      "It will be warm and sunny\n",
      "It is ideal for hiking\n"
     ]
    }
   ],
   "source": [
    "# to pritntmultiple lines of code\n",
    "print('''Today is a lovely day\n",
    "It will be warm and sunny\n",
    "It is ideal for hiking''')"
   ]
  },
  {
   "cell_type": "code",
   "execution_count": 3,
   "id": "429596c4",
   "metadata": {},
   "outputs": [
    {
     "name": "stdout",
     "output_type": "stream",
     "text": [
      "The weight of simi is 4.5\n",
      "The weight of simi is 4.5\n"
     ]
    }
   ],
   "source": [
    "# for embadding vriables within within a string\n",
    "weight=4.5\n",
    "name = \"simi\"\n",
    "print(\"The weight of {} is {}\".format(name,weight)) #or\n",
    "print(\"The weight of\",name,\"is\",weight)"
   ]
  },
  {
   "cell_type": "markdown",
   "id": "83e13777",
   "metadata": {},
   "source": [
    "#### the input function accepts input from the user and stores it as a variable of type string"
   ]
  },
  {
   "cell_type": "code",
   "execution_count": 5,
   "id": "4d0fadb1",
   "metadata": {},
   "outputs": [
    {
     "name": "stdout",
     "output_type": "stream",
     "text": [
      "Enter your age:76\n",
      "In 2010, you were 66 years old\n"
     ]
    }
   ],
   "source": [
    "age=input(\"Enter your age:\")\n",
    "print(\"In 2010, you were\",int(age)-10,\"years old\")"
   ]
  },
  {
   "cell_type": "markdown",
   "id": "b15341fc",
   "metadata": {},
   "source": [
    "### constant \n",
    "is a value that does not change\n",
    "### variable \n",
    "contains a value can be changed\n",
    "<br> we don't have to declare variables in python, We define a variable by giving it a name and assigning it to a value. Based on the value, a data type is automatically assigned to it\n",
    "### the rules of naming a variable\n",
    "<br>1. a variable name cannot have spaces\n",
    "<br>2.a variable cannot start with a number\n",
    "<br>3.a variable name contain onle letters,numbers,and underscore signs(_)\n",
    "<br>4. a variable cannot take the name of a reserved keyword"
   ]
  },
  {
   "cell_type": "markdown",
   "id": "82324c6c",
   "metadata": {},
   "source": [
    "## operators\n",
    "#### Arithmetic operators:\n",
    "these operators take two values, perform an operation, and return a value\n",
    "* **(exponent)\n",
    "* %(remainder)\n",
    "* //(quotient)\n",
    "* *(multiplication)\n",
    "* -(subtraction)\n",
    "* +(addition)\n",
    "<br>* the order of the operations is essential"
   ]
  },
  {
   "cell_type": "code",
   "execution_count": 15,
   "id": "d5fac120",
   "metadata": {},
   "outputs": [
    {
     "data": {
      "text/plain": [
       "2.0"
      ]
     },
     "execution_count": 15,
     "metadata": {},
     "output_type": "execute_result"
    }
   ],
   "source": [
    "(1+9)/2-3"
   ]
  },
  {
   "cell_type": "markdown",
   "id": "d6afbfc8",
   "metadata": {},
   "source": [
    "### comparison operators\n",
    "these operators compare two values and evaluate to true or false value\n",
    "* (>) Greater than\n",
    "* (<) Less than\n",
    "* (<=) Less than or equal to\n",
    "* (>=) Greater than or equal to\n",
    "* (==) equality\n",
    "* (!=) Not equal to"
   ]
  },
  {
   "cell_type": "markdown",
   "id": "b11181d1",
   "metadata": {},
   "source": [
    "### Logical operators\n",
    "these operators operate on Boolean variables or expressions. Evaluate to a true or false value\n",
    "* and operator: is only true if all its subexpressions are true"
   ]
  },
  {
   "cell_type": "code",
   "execution_count": 18,
   "id": "daf77662",
   "metadata": {},
   "outputs": [
    {
     "data": {
      "text/plain": [
       "False"
      ]
     },
     "execution_count": 18,
     "metadata": {},
     "output_type": "execute_result"
    }
   ],
   "source": [
    "(2>1) and (1>3)"
   ]
  },
  {
   "cell_type": "markdown",
   "id": "b08d5074",
   "metadata": {},
   "source": [
    "* or operator: is true if any subexpression within the expression is true "
   ]
  },
  {
   "cell_type": "code",
   "execution_count": 19,
   "id": "ce65ce3b",
   "metadata": {},
   "outputs": [
    {
     "data": {
      "text/plain": [
       "True"
      ]
     },
     "execution_count": 19,
     "metadata": {},
     "output_type": "execute_result"
    }
   ],
   "source": [
    "(2>1) or (1>3)"
   ]
  },
  {
   "cell_type": "markdown",
   "id": "640e5ac5",
   "metadata": {},
   "source": [
    "* not operator: evaluate true if the expression is false, and vice versa"
   ]
  },
  {
   "cell_type": "code",
   "execution_count": 20,
   "id": "8f448a06",
   "metadata": {},
   "outputs": [
    {
     "data": {
      "text/plain": [
       "True"
      ]
     },
     "execution_count": 20,
     "metadata": {},
     "output_type": "execute_result"
    }
   ],
   "source": [
    "not(1>2)"
   ]
  },
  {
   "cell_type": "markdown",
   "id": "1bf381e0",
   "metadata": {},
   "source": [
    "### Assignment operators\n",
    "these operators assigns a value to a variable or an operand\n",
    "* = (assign a value to a variable)\n",
    "* += (adds the value on the right to the operand on the left)\n",
    "* -=(subtract the value on the right from the operand on the left)\n",
    "* *= (multiplies the operant on the left by the value on the right)\n",
    "* %= (returns the remainder after deviding the operant on the left by the value on the right)\n",
    "* /=(returns the quotient after deviding the operant on the left by the value on the right)\n",
    "* //=(returns onlr the integer part of the quotient after deviding the operant on the left by the value on the right)"
   ]
  },
  {
   "cell_type": "markdown",
   "id": "a039a31f",
   "metadata": {},
   "source": [
    "### identity operators\n",
    "these operators check for thr equality of two objects and return a Boolean value (True/False) depending on wether they are equal or not"
   ]
  },
  {
   "cell_type": "code",
   "execution_count": 17,
   "id": "08161d13",
   "metadata": {},
   "outputs": [
    {
     "data": {
      "text/plain": [
       "True"
      ]
     },
     "execution_count": 17,
     "metadata": {},
     "output_type": "execute_result"
    }
   ],
   "source": [
    "x=3\n",
    "y=x\n",
    "z=y\n",
    "x is z"
   ]
  },
  {
   "cell_type": "markdown",
   "id": "cd6913a5",
   "metadata": {},
   "source": [
    "### Membership operators\n",
    "these operators check if a particular value is present in a string or a container. the in operator returnd \"True\" if the value is present, and the not in operator returns \"True\" if the value is not present in the string or container"
   ]
  },
  {
   "cell_type": "code",
   "execution_count": 16,
   "id": "afbdf881",
   "metadata": {},
   "outputs": [
    {
     "data": {
      "text/plain": [
       "True"
      ]
     },
     "execution_count": 16,
     "metadata": {},
     "output_type": "execute_result"
    }
   ],
   "source": [
    "'a'in 'and'"
   ]
  },
  {
   "cell_type": "markdown",
   "id": "1468e2aa",
   "metadata": {},
   "source": [
    "## conditional statements\n",
    "start with the if key word, and the expression or a condition to be evaluated. this is followed by a block of code executes only if the condition evaluates to \"True\"; otherwise it's skipped (if_elif_else)\n",
    "* the else statement is used to execute a block of code when the condition in the if statement is not satisfied"
   ]
  },
  {
   "cell_type": "code",
   "execution_count": 13,
   "id": "6a80578f",
   "metadata": {},
   "outputs": [
    {
     "name": "stdout",
     "output_type": "stream",
     "text": [
      "Enter one of the following colors- red, orange, or blue:blue\n",
      "your favourit color is blue\n"
     ]
    }
   ],
   "source": [
    "color=input('Enter one of the following colors- red, orange, or blue:')\n",
    "if color=='red':\n",
    "    print('your favourit color is red')\n",
    "elif color=='orange':\n",
    "    print('your favourit color is orange')\n",
    "elif color=='blue':\n",
    "    print('your favourit color is blue')\n",
    "else:\n",
    "    print('you entered the wrong color')"
   ]
  },
  {
   "cell_type": "markdown",
   "id": "d72d473a",
   "metadata": {},
   "source": [
    "### conditional statement can be nested"
   ]
  },
  {
   "cell_type": "code",
   "execution_count": 14,
   "id": "536abfb0",
   "metadata": {},
   "outputs": [
    {
     "name": "stdout",
     "output_type": "stream",
     "text": [
      "Number greater than 10\n"
     ]
    }
   ],
   "source": [
    "x=20\n",
    "if x<10:\n",
    "    if x<5:\n",
    "        print(\"Number less than 5\")\n",
    "       \n",
    "    else:\n",
    "        print(\"Number greater than 5\")\n",
    "else:\n",
    "    print(\"Number greater than 10\")"
   ]
  },
  {
   "cell_type": "markdown",
   "id": "50f65514",
   "metadata": {},
   "source": [
    "## loops\n",
    "are used to execute portion of the code repeatedly\n",
    "### While loop\n",
    "is used when we want to execute a particular instruction as long as a condition is true"
   ]
  },
  {
   "cell_type": "code",
   "execution_count": 6,
   "id": "04ad1491",
   "metadata": {},
   "outputs": [
    {
     "name": "stdout",
     "output_type": "stream",
     "text": [
      "Enter the correct color:red\n"
     ]
    }
   ],
   "source": [
    "while True:\n",
    "    x=input('Enter the correct color:')\n",
    "    if(x!='red'):\n",
    "        print(\"color needs to be entered as red\")\n",
    "        continue\n",
    "    else:\n",
    "        break"
   ]
  },
  {
   "cell_type": "markdown",
   "id": "f756addc",
   "metadata": {},
   "source": [
    "*The break statement is used to take the control otside the loop. It's useful when we have an infinite loop\n",
    "<br>*the continue statement does the opposite- it takes control to the beginning of the loop"
   ]
  },
  {
   "cell_type": "markdown",
   "id": "bdd71e66",
   "metadata": {},
   "source": [
    "## For loop\n",
    "is used to execute a block of code a predetermined numbers of time"
   ]
  },
  {
   "cell_type": "code",
   "execution_count": 8,
   "id": "7efb25ca",
   "metadata": {},
   "outputs": [
    {
     "name": "stdout",
     "output_type": "stream",
     "text": [
      "25\n"
     ]
    }
   ],
   "source": [
    "sum=0\n",
    "for i in range(1,10,2):\n",
    "    sum=sum+i\n",
    "print(sum)\n",
    "    "
   ]
  },
  {
   "cell_type": "markdown",
   "id": "d8e9108d",
   "metadata": {},
   "source": [
    "the rangr function has three arguments: the start argument, the stop argument, and the step argument. the default start argument is 0, and the default of step argument is 1\n",
    "* For loop can be nested\n"
   ]
  },
  {
   "cell_type": "code",
   "execution_count": 11,
   "id": "b9d694d2",
   "metadata": {},
   "outputs": [
    {
     "name": "stdout",
     "output_type": "stream",
     "text": [
      "aaaa\n",
      "\n",
      "bbbb\n",
      "\n",
      "cccc\n",
      "\n",
      "dddd\n",
      "\n"
     ]
    }
   ],
   "source": [
    "for i in 'abcd':\n",
    "    for j in range(4):\n",
    "        print(i,end=\"\")\n",
    "    print(\"\\n\")"
   ]
  },
  {
   "cell_type": "markdown",
   "id": "82823570",
   "metadata": {},
   "source": [
    "## functions\n",
    "a function is defined using the def keyword. this is followed by the name of function and one or more optional parameters. a function may have an optional return value(the output produced by a function that is returned to the main program)"
   ]
  },
  {
   "cell_type": "code",
   "execution_count": 21,
   "id": "5ca8d8a4",
   "metadata": {},
   "outputs": [
    {
     "name": "stdout",
     "output_type": "stream",
     "text": [
      "10 is not prime\n",
      "11 is prime\n",
      "12 is not prime\n",
      "13 is prime\n",
      "14 is not prime\n",
      "15 is not prime\n",
      "16 is not prime\n",
      "17 is prime\n",
      "18 is not prime\n",
      "19 is prime\n"
     ]
    }
   ],
   "source": [
    "def check_prime(i):\n",
    "    isPrime= True\n",
    "    for j in range(2,i):\n",
    "        if i%j==0:\n",
    "            isPrime= False\n",
    "    if isPrime:\n",
    "        print(i,\"is prime\")\n",
    "    else:\n",
    "        print(i,\"is not prime\")\n",
    "for i in range(10,20):\n",
    "    check_prime(i)"
   ]
  },
  {
   "cell_type": "markdown",
   "id": "072e8827",
   "metadata": {},
   "source": [
    "## containers\n",
    "are objects that can contain multilple values(have the same data type or different data types)\n",
    "### the four built in containers in pyton\n",
    "<br>1. Lists\n",
    "<br>2.Tuples\n",
    "<br>3.Dictionaries\n",
    "<br>4.Sets\n",
    "## Lists\n",
    "contains a set of vlues that are stored in sequential order. you can add, modify, or delete values in a list\n",
    "### defining a list\n",
    "it can be defined by giving it a name and a set of values that are encosed within a square brackets"
   ]
  },
  {
   "cell_type": "code",
   "execution_count": null,
   "id": "f5ceecb9",
   "metadata": {},
   "outputs": [],
   "source": [
    "colors=['violet','indigo','red','blue','green','yellow']"
   ]
  },
  {
   "cell_type": "markdown",
   "id": "9bcb47f2",
   "metadata": {},
   "source": [
    "#### adding item to a list\n",
    "##### methods can be used to add values to a list:\n",
    "<br>1.Appen: adds one item to the end of a list\n",
    "<br>2.Insert: adds one item to a given location or index\n",
    "<br>3.Extend: adds multiple elements (as a list) at the end of a given list"
   ]
  },
  {
   "cell_type": "code",
   "execution_count": null,
   "id": "e9610a51",
   "metadata": {},
   "outputs": [],
   "source": [
    "#Append\n",
    "colors.append('white')\n",
    "#Insert \n",
    "colors.insert(3,'pink')\n",
    "#Extend \n",
    "colors.extend(['purple','magenta'])"
   ]
  },
  {
   "cell_type": "markdown",
   "id": "b9196009",
   "metadata": {},
   "source": [
    "### Removing elements from a list\n",
    "### methods can be used to emove values from a list:\n",
    "<br>1.Del: delets an item at a giving location\n",
    "<br>2.Remove: delets an item using its name not location\n",
    "<br>3.Pop: removes and returns the last item in the list"
   ]
  },
  {
   "cell_type": "code",
   "execution_count": null,
   "id": "0477a6f1",
   "metadata": {},
   "outputs": [],
   "source": [
    "#Del\n",
    "del colors[1]\n",
    "#Rmove\n",
    "colors.remove('white')\n",
    "#Pop\n",
    "colors.pop()"
   ]
  },
  {
   "cell_type": "markdown",
   "id": "2fbe9734",
   "metadata": {},
   "source": [
    "#### finding the index of an object in the list"
   ]
  },
  {
   "cell_type": "code",
   "execution_count": null,
   "id": "06b72509",
   "metadata": {},
   "outputs": [],
   "source": [
    "colors.index('violet')"
   ]
  },
  {
   "cell_type": "markdown",
   "id": "be6eff16",
   "metadata": {},
   "source": [
    "### calculating the length of a list\n",
    "using the function len"
   ]
  },
  {
   "cell_type": "code",
   "execution_count": null,
   "id": "822b8da3",
   "metadata": {},
   "outputs": [],
   "source": [
    "len(colors)"
   ]
  },
  {
   "cell_type": "markdown",
   "id": "015425b6",
   "metadata": {},
   "source": [
    "### sorting a list\n",
    "the sort method sorts the values in the list, in ascending (by default) or descending. if the list contains strings , the sorting is done in alphabetical order(all values in the list should be of the same data type)"
   ]
  },
  {
   "cell_type": "code",
   "execution_count": null,
   "id": "da890dc9",
   "metadata": {},
   "outputs": [],
   "source": [
    "colors.sort()\n",
    "colors"
   ]
  },
  {
   "cell_type": "code",
   "execution_count": null,
   "id": "b2882290",
   "metadata": {},
   "outputs": [],
   "source": [
    "#sorting in the reverse alphabetical order:\n",
    "colors.sort(reverse=True)\n",
    "colors"
   ]
  },
  {
   "cell_type": "markdown",
   "id": "de8f059a",
   "metadata": {},
   "source": [
    "### slicing a list\n",
    "creating a subset of the original list by choosing specific values from the list, based on their position or by using condition (we use (:) to specify the start and stop values)"
   ]
  },
  {
   "cell_type": "code",
   "execution_count": null,
   "id": "369a203e",
   "metadata": {},
   "outputs": [],
   "source": [
    "colors[0:3]"
   ]
  },
  {
   "cell_type": "markdown",
   "id": "9c9bf014",
   "metadata": {},
   "source": [
    "### creating new list from existing list\n",
    "#### used methods:\n",
    "<br>1.List comprehensions:\n"
   ]
  },
  {
   "cell_type": "code",
   "execution_count": null,
   "id": "b5d2d49e",
   "metadata": {},
   "outputs": [],
   "source": [
    "colors1=[color for color in colors if 'e'in color]\n",
    "colors1"
   ]
  },
  {
   "cell_type": "markdown",
   "id": "a88657b4",
   "metadata": {},
   "source": [
    "2.Map function: creats a new list by applying a user_defined or inbuilt function on an existing list\n",
    "##### the map function accepts two arguments:\n",
    "<br>1.the function to be applied\n",
    "<br>2.the list in which the function is to be applied"
   ]
  },
  {
   "cell_type": "code",
   "execution_count": null,
   "id": "daf2247d",
   "metadata": {},
   "outputs": [],
   "source": [
    "colors2=map(lambda x:x.upper(),colors)\n",
    "colors2"
   ]
  },
  {
   "cell_type": "markdown",
   "id": "3a499a97",
   "metadata": {},
   "source": [
    "the function returns a map object, and the list function needs to be used to convert it to a list"
   ]
  },
  {
   "cell_type": "code",
   "execution_count": null,
   "id": "a63609d5",
   "metadata": {},
   "outputs": [],
   "source": [
    "list(colors2)"
   ]
  },
  {
   "cell_type": "markdown",
   "id": "3c7f8aaf",
   "metadata": {},
   "source": [
    "3.Filter function\n"
   ]
  },
  {
   "cell_type": "code",
   "execution_count": null,
   "id": "57973c2f",
   "metadata": {},
   "outputs": [],
   "source": []
  },
  {
   "cell_type": "code",
   "execution_count": null,
   "id": "2418c44a",
   "metadata": {},
   "outputs": [],
   "source": []
  },
  {
   "cell_type": "code",
   "execution_count": null,
   "id": "516db158",
   "metadata": {},
   "outputs": [],
   "source": []
  },
  {
   "cell_type": "code",
   "execution_count": null,
   "id": "4fa30735",
   "metadata": {},
   "outputs": [],
   "source": []
  },
  {
   "cell_type": "code",
   "execution_count": null,
   "id": "2affa27f",
   "metadata": {},
   "outputs": [],
   "source": []
  },
  {
   "cell_type": "markdown",
   "id": "4f69e4e0",
   "metadata": {},
   "source": [
    "## Tuples\n",
    "stores itemd sequentially. All the values can be accessed through their indexes\n",
    "### Tuples properties:\n",
    "#### Immutability\n",
    "you can not add, remove, or change the elements in tuple\n",
    "#### Syntax\n",
    "the syntax of defining a tuple uses round brackets() to enclose the individual values\n",
    "#### Speed\n",
    "faster access and retrieval of individual elements\n",
    "### Defining tuples\n",
    "it can be defined with or withot parenthesis"
   ]
  },
  {
   "cell_type": "code",
   "execution_count": null,
   "id": "53bf0cf8",
   "metadata": {},
   "outputs": [],
   "source": [
    "a=(1,2,3)\n",
    "#or\n",
    "a=1,2,3"
   ]
  },
  {
   "cell_type": "markdown",
   "id": "80c22b4b",
   "metadata": {},
   "source": [
    "### Methods used with a tuple\n",
    "#### frequncy of objects in tuple\n",
    "using the count method to count the number of occurrences of a given value"
   ]
  },
  {
   "cell_type": "code",
   "execution_count": null,
   "id": "3364759c",
   "metadata": {},
   "outputs": [],
   "source": [
    "x=(True,False,True,False,True)\n",
    "x.count(True)"
   ]
  },
  {
   "cell_type": "markdown",
   "id": "b55ab21d",
   "metadata": {},
   "source": [
    "### Location/Index of a tuple item\n",
    "using the index method"
   ]
  },
  {
   "cell_type": "code",
   "execution_count": null,
   "id": "ce398711",
   "metadata": {},
   "outputs": [],
   "source": [
    "x.index(False)\n",
    "#only the of the first occurrence of the item is returned"
   ]
  },
  {
   "cell_type": "markdown",
   "id": "b2c3061b",
   "metadata": {},
   "source": [
    "### Tuple unpacking\n",
    "the process of extracting the individual values and storing each of them in seperate variables"
   ]
  },
  {
   "cell_type": "code",
   "execution_count": null,
   "id": "a994c098",
   "metadata": {},
   "outputs": [],
   "source": [
    "a,b,c,d,e=x"
   ]
  },
  {
   "cell_type": "markdown",
   "id": "e1843988",
   "metadata": {},
   "source": [
    "if we don't know the number of items in a tuple we can use the \"*_\" symbols to unpack the elements after te first one."
   ]
  },
  {
   "cell_type": "code",
   "execution_count": null,
   "id": "f753a617",
   "metadata": {},
   "outputs": [],
   "source": [
    "a,*_=x\n",
    "print(a,_)"
   ]
  },
  {
   "cell_type": "markdown",
   "id": "20f2b7ec",
   "metadata": {},
   "source": [
    "### Length of a tuple\n",
    "using the len function"
   ]
  },
  {
   "cell_type": "code",
   "execution_count": null,
   "id": "341b892b",
   "metadata": {},
   "outputs": [],
   "source": [
    "len(x)"
   ]
  },
  {
   "cell_type": "markdown",
   "id": "a956c410",
   "metadata": {},
   "source": [
    "### Slicing of a tuple\n",
    "creating a smaller subset of values"
   ]
  },
  {
   "cell_type": "code",
   "execution_count": null,
   "id": "ada50093",
   "metadata": {},
   "outputs": [],
   "source": [
    "x[::-1]"
   ]
  },
  {
   "cell_type": "markdown",
   "id": "49ae8198",
   "metadata": {},
   "source": [
    "## Applications of tuples\n",
    "### Creaing a dictionary with tuples\n",
    "Dictonary can be defined as list of tubles using the dict method"
   ]
  },
  {
   "cell_type": "code",
   "execution_count": null,
   "id": "da4ba68f",
   "metadata": {},
   "outputs": [],
   "source": [
    "x=dict([('color','pink'),('flower','rose')])\n",
    "x"
   ]
  },
  {
   "cell_type": "markdown",
   "id": "a2946f4c",
   "metadata": {},
   "source": [
    "### Multiple assignment\n",
    "the principle of tuple unpacking can be used for initializing multiple variables in one line"
   ]
  },
  {
   "cell_type": "code",
   "execution_count": null,
   "id": "462b764a",
   "metadata": {},
   "outputs": [],
   "source": [
    "(a,b,c,d)=range(4)\n",
    "print(a,b,c,d)"
   ]
  },
  {
   "cell_type": "markdown",
   "id": "47c25631",
   "metadata": {},
   "source": [
    "## Dictionaries\n",
    "contain  a set of items, with each item mapping a \"key\"to a \"value\"\n",
    "### notes abt Dictionaries:\n",
    "<br>1.items of dicionary are not store in sequential order\n",
    "<br>2.you can modify a detionary object\n",
    "<br>3.curly braces are used to enclose the items in a dictionary\n",
    "### Defining a dictionary\n",
    "a dictionary is defined as a set of comma-seperated key/value enclosed within a pair of curly braces"
   ]
  },
  {
   "cell_type": "code",
   "execution_count": null,
   "id": "ea6846f4",
   "metadata": {},
   "outputs": [],
   "source": [
    "numbers={'English':'One','Spanish':'Uno','German':'Ein'}\n",
    "numbers"
   ]
  },
  {
   "cell_type": "markdown",
   "id": "6ba37723",
   "metadata": {},
   "source": [
    "\"English\",\"Spanish\", and \"German\" form the keys, while \"One\",\"Uno\",and \"Ein\" are the values in the dictionary\n",
    "### Adding an item to a dictionary\n",
    "using the key as index"
   ]
  },
  {
   "cell_type": "code",
   "execution_count": null,
   "id": "32e9fd49",
   "metadata": {},
   "outputs": [],
   "source": [
    "numbers['french']='un'\n",
    "numbers"
   ]
  },
  {
   "cell_type": "markdown",
   "id": "f034bbaf",
   "metadata": {},
   "source": [
    "### Accessing the key in a dictionary\n",
    "using the keys method"
   ]
  },
  {
   "cell_type": "code",
   "execution_count": null,
   "id": "bc84443a",
   "metadata": {},
   "outputs": [],
   "source": [
    "numbers.keys()"
   ]
  },
  {
   "cell_type": "markdown",
   "id": "e0f18bd8",
   "metadata": {},
   "source": [
    "### Accessing the values in a dictionary\n",
    "using the values methodd"
   ]
  },
  {
   "cell_type": "code",
   "execution_count": null,
   "id": "2c4f7d92",
   "metadata": {},
   "outputs": [],
   "source": [
    "numbers.values()"
   ]
  },
  {
   "cell_type": "markdown",
   "id": "9e65a189",
   "metadata": {},
   "source": [
    "### Accessing all the key/value pairs in a dictionary\n",
    "using the items method"
   ]
  },
  {
   "cell_type": "code",
   "execution_count": null,
   "id": "882e0f7e",
   "metadata": {},
   "outputs": [],
   "source": [
    "numbers.items()"
   ]
  },
  {
   "cell_type": "markdown",
   "id": "494fb768",
   "metadata": {},
   "source": [
    "### Accessing individual values\n",
    "using the key as an index"
   ]
  },
  {
   "cell_type": "code",
   "execution_count": null,
   "id": "9f7c31e1",
   "metadata": {},
   "outputs": [],
   "source": [
    "numbers['German']\n",
    "#or by using the get method\n",
    "numbers.get('German')"
   ]
  },
  {
   "cell_type": "markdown",
   "id": "e7064cc0",
   "metadata": {},
   "source": [
    "### setting default values for keys\n",
    "using either the get or the setdefault method.The get method does not change the dictionary object, while the setdefalt method ensures that the changes are reflected in the object"
   ]
  },
  {
   "cell_type": "code",
   "execution_count": null,
   "id": "3b8ea858",
   "metadata": {},
   "outputs": [],
   "source": [
    "numbers.setdefault('Mandarin','Yi')\n",
    "numbers"
   ]
  },
  {
   "cell_type": "code",
   "execution_count": null,
   "id": "08a5b250",
   "metadata": {},
   "outputs": [],
   "source": [
    "numbers.get('Hindi','Ek')\n",
    "numbers"
   ]
  },
  {
   "cell_type": "markdown",
   "id": "b33af030",
   "metadata": {},
   "source": [
    "### clearing a dictionary\n",
    "the clear method removes all the key/value pairs from a dictionary"
   ]
  },
  {
   "cell_type": "code",
   "execution_count": null,
   "id": "bba3fac3",
   "metadata": {},
   "outputs": [],
   "source": [
    "numbers.clear()\n",
    "numbers"
   ]
  },
  {
   "cell_type": "markdown",
   "id": "14dfc6f2",
   "metadata": {},
   "source": [
    "## sets\n",
    "contain elements that are not ordered or indexed (a collection of unique elements)\n",
    "### Defining a set\n",
    "a set is declared using curly braces and has unordered elements\n",
    "<br><br>python does not throw an error if we added duplicate elements wile creating a set. All the duplicate elements are ignored while performing an operation on sets"
   ]
  },
  {
   "cell_type": "code",
   "execution_count": null,
   "id": "2f5311ab",
   "metadata": {},
   "outputs": [],
   "source": [
    "a={1,2,5,4,8,2,1}\n",
    "a"
   ]
  },
  {
   "cell_type": "markdown",
   "id": "682a67da",
   "metadata": {},
   "source": [
    "### set operations\n",
    "#### 1.Finding the length of a set\n",
    "the len function counts the number of elements in a set"
   ]
  },
  {
   "cell_type": "code",
   "execution_count": null,
   "id": "c1a41456",
   "metadata": {},
   "outputs": [],
   "source": [
    "len(a)"
   ]
  },
  {
   "cell_type": "markdown",
   "id": "dedbbc9c",
   "metadata": {},
   "source": [
    "####  2. Set iteration\n",
    "the for loop can iterate through a set and print its elements"
   ]
  },
  {
   "cell_type": "code",
   "execution_count": null,
   "id": "14f05727",
   "metadata": {},
   "outputs": [],
   "source": [
    "for x in a:\n",
    "    print(x)"
   ]
  },
  {
   "cell_type": "markdown",
   "id": "02cac56a",
   "metadata": {},
   "source": [
    "#### 3.Adding items or values:\n",
    "A single item can be added to a set using the add method. for adding multiple values the update method is used"
   ]
  },
  {
   "cell_type": "code",
   "execution_count": null,
   "id": "7642c7b5",
   "metadata": {},
   "outputs": [],
   "source": [
    "a.add(3)\n",
    "#or\n",
    "a.update([4,5])"
   ]
  },
  {
   "cell_type": "markdown",
   "id": "cba13988",
   "metadata": {},
   "source": [
    "#### 4.Removing iems:\n",
    "items can be removed using either the remove or the discard method"
   ]
  },
  {
   "cell_type": "code",
   "execution_count": null,
   "id": "f49fba5c",
   "metadata": {},
   "outputs": [],
   "source": [
    "a.remove(4)\n",
    "#or\n",
    "a.discard(4)"
   ]
  },
  {
   "cell_type": "markdown",
   "id": "da856e20",
   "metadata": {},
   "source": [
    "when we try to delete an element that is not in the set the remove method gives a KeyError, whereas the remove doesn't"
   ]
  }
 ],
 "metadata": {
  "kernelspec": {
   "display_name": "Python 3 (ipykernel)",
   "language": "python",
   "name": "python3"
  },
  "language_info": {
   "codemirror_mode": {
    "name": "ipython",
    "version": 3
   },
   "file_extension": ".py",
   "mimetype": "text/x-python",
   "name": "python",
   "nbconvert_exporter": "python",
   "pygments_lexer": "ipython3",
   "version": "3.9.7"
  }
 },
 "nbformat": 4,
 "nbformat_minor": 5
}
